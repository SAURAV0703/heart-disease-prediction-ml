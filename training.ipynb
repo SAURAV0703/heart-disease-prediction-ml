{
  "nbformat": 4,
  "nbformat_minor": 0,
  "metadata": {
    "colab": {
      "provenance": []
    },
    "kernelspec": {
      "name": "python3",
      "display_name": "Python 3"
    },
    "language_info": {
      "name": "python"
    }
  },
  "cells": [
    {
      "cell_type": "code",
      "source": [
        "import pandas as pd\n",
        "import numpy as np\n",
        "from sklearn.model_selection import train_test_split\n",
        "from sklearn.preprocessing import StandardScaler\n",
        "from sklearn.metrics import accuracy_score, classification_report\n",
        "\n",
        "# Load the cleaned dataset\n",
        "df = pd.read_csv(\"cleaned_data.csv\")\n",
        "\n",
        "# Define features and target\n",
        "X = df.drop(columns=[\"cardio\"])  # Features\n",
        "y = df[\"cardio\"]  # Target\n",
        "\n",
        "# Train-Test Split\n",
        "X_train, X_test, y_train, y_test = train_test_split(X, y, test_size=0.2, random_state=42, stratify=y)\n",
        "\n",
        "# Standardize features\n",
        "scaler = StandardScaler()\n",
        "X_train = scaler.fit_transform(X_train)\n",
        "X_test = scaler.transform(X_test)\n",
        "\n",
        "# Dictionary to store results\n",
        "results = {}\n",
        "\n",
        "# Models to Try\n",
        "from sklearn.linear_model import LogisticRegression\n",
        "from sklearn.ensemble import RandomForestClassifier\n",
        "from sklearn.svm import SVC\n",
        "from xgboost import XGBClassifier\n",
        "\n",
        "models = {\n",
        "    \"Logistic Regression\": LogisticRegression(),\n",
        "    \"Random Forest\": RandomForestClassifier(n_estimators=100, random_state=42),\n",
        "    \"Support Vector Machine\": SVC(),\n",
        "    \"XGBoost\": XGBClassifier(eval_metric='logloss')\n",
        "}\n",
        "\n",
        "for name, model in models.items():\n",
        "    model.fit(X_train, y_train)\n",
        "    y_pred = model.predict(X_test)\n",
        "    acc = accuracy_score(y_test, y_pred)\n",
        "    results[name] = acc\n",
        "    print(f\"{name} Accuracy: {acc:.4f}\")\n",
        "    print(classification_report(y_test, y_pred))\n",
        "\n",
        "# Compare Models\n",
        "best_model = max(results, key=results.get)\n",
        "print(f\"\\nBest Performing Model: {best_model} with Accuracy: {results[best_model]:.4f}\")\n"
      ],
      "metadata": {
        "colab": {
          "base_uri": "https://localhost:8080/"
        },
        "id": "R6SbnFl4FJUi",
        "outputId": "c47738c8-0534-4a6d-9ece-086561189e4f"
      },
      "execution_count": null,
      "outputs": [
        {
          "output_type": "stream",
          "name": "stdout",
          "text": [
            "Logistic Regression Accuracy: 0.7057\n",
            "              precision    recall  f1-score   support\n",
            "\n",
            "           0       0.70      0.73      0.71       439\n",
            "           1       0.72      0.68      0.70       441\n",
            "\n",
            "    accuracy                           0.71       880\n",
            "   macro avg       0.71      0.71      0.71       880\n",
            "weighted avg       0.71      0.71      0.71       880\n",
            "\n",
            "Random Forest Accuracy: 0.6739\n",
            "              precision    recall  f1-score   support\n",
            "\n",
            "           0       0.68      0.65      0.67       439\n",
            "           1       0.67      0.70      0.68       441\n",
            "\n",
            "    accuracy                           0.67       880\n",
            "   macro avg       0.67      0.67      0.67       880\n",
            "weighted avg       0.67      0.67      0.67       880\n",
            "\n",
            "Support Vector Machine Accuracy: 0.7023\n",
            "              precision    recall  f1-score   support\n",
            "\n",
            "           0       0.69      0.73      0.71       439\n",
            "           1       0.71      0.68      0.70       441\n",
            "\n",
            "    accuracy                           0.70       880\n",
            "   macro avg       0.70      0.70      0.70       880\n",
            "weighted avg       0.70      0.70      0.70       880\n",
            "\n",
            "XGBoost Accuracy: 0.6750\n",
            "              precision    recall  f1-score   support\n",
            "\n",
            "           0       0.67      0.68      0.68       439\n",
            "           1       0.68      0.67      0.67       441\n",
            "\n",
            "    accuracy                           0.68       880\n",
            "   macro avg       0.68      0.68      0.67       880\n",
            "weighted avg       0.68      0.68      0.67       880\n",
            "\n",
            "\n",
            "Best Performing Model: Logistic Regression with Accuracy: 0.7057\n"
          ]
        }
      ]
    },
    {
      "cell_type": "code",
      "source": [
        "from sklearn.model_selection import GridSearchCV\n",
        "from sklearn.linear_model import LogisticRegression\n",
        "from sklearn.svm import SVC\n",
        "\n",
        "# Define parameter grids\n",
        "logreg_param_grid = {\n",
        "    'C': [0.01, 0.1, 1, 10, 100],\n",
        "    'solver': ['lbfgs', 'liblinear']\n",
        "}\n",
        "\n",
        "svm_param_grid = {\n",
        "    'C': [0.01, 0.1, 1, 10, 100],\n",
        "    'kernel': ['linear', 'rbf', 'poly']\n",
        "}\n",
        "\n",
        "# Perform Grid Search for Logistic Regression\n",
        "logreg = LogisticRegression(max_iter=1000)\n",
        "logreg_grid = GridSearchCV(logreg, logreg_param_grid, cv=5, scoring='accuracy', n_jobs=-1)\n",
        "logreg_grid.fit(X_train, y_train)\n",
        "\n",
        "# Perform Grid Search for SVM\n",
        "svm = SVC()\n",
        "svm_grid = GridSearchCV(svm, svm_param_grid, cv=5, scoring='accuracy', n_jobs=-1)\n",
        "svm_grid.fit(X_train, y_train)\n",
        "\n",
        "# Print best parameters and best scores\n",
        "print(f\"Best Logistic Regression Parameters: {logreg_grid.best_params_}\")\n",
        "print(f\"Best Logistic Regression Accuracy: {logreg_grid.best_score_:.4f}\")\n",
        "\n",
        "print(f\"Best SVM Parameters: {svm_grid.best_params_}\")\n",
        "print(f\"Best SVM Accuracy: {svm_grid.best_score_:.4f}\")\n"
      ],
      "metadata": {
        "colab": {
          "base_uri": "https://localhost:8080/"
        },
        "id": "IvS9bRS2IWAc",
        "outputId": "4c3d5d84-3462-48a5-bfaa-35b756fdd636"
      },
      "execution_count": null,
      "outputs": [
        {
          "output_type": "stream",
          "name": "stdout",
          "text": [
            "Best Logistic Regression Parameters: {'C': 0.1, 'solver': 'lbfgs'}\n",
            "Best Logistic Regression Accuracy: 0.7230\n",
            "Best SVM Parameters: {'C': 1, 'kernel': 'rbf'}\n",
            "Best SVM Accuracy: 0.7338\n"
          ]
        }
      ]
    },
    {
      "cell_type": "code",
      "source": [
        "# Ensure you're using the best SVM model from GridSearchCV\n",
        "best_svm = svm_grid.best_estimator_\n",
        "\n",
        "# Predict using the best SVM model\n",
        "svm_y_pred = best_svm.predict(X_test)\n",
        "\n",
        "# Generate confusion matrix\n",
        "from sklearn.metrics import confusion_matrix, ConfusionMatrixDisplay\n",
        "cm = confusion_matrix(y_test, svm_y_pred)\n",
        "disp = ConfusionMatrixDisplay(confusion_matrix=cm, display_labels=best_svm.classes_)\n",
        "disp.plot(cmap='Blues')\n",
        "\n",
        "# Classification report\n",
        "from sklearn.metrics import classification_report\n",
        "print(\"SVM Classification Report:\\n\", classification_report(y_test, svm_y_pred))\n"
      ],
      "metadata": {
        "colab": {
          "base_uri": "https://localhost:8080/",
          "height": 631
        },
        "id": "V4O3grSmLsDb",
        "outputId": "043d6055-b7af-40b5-f980-ebe7b183fa46"
      },
      "execution_count": null,
      "outputs": [
        {
          "output_type": "stream",
          "name": "stdout",
          "text": [
            "SVM Classification Report:\n",
            "               precision    recall  f1-score   support\n",
            "\n",
            "           0       0.69      0.73      0.71       439\n",
            "           1       0.71      0.68      0.70       441\n",
            "\n",
            "    accuracy                           0.70       880\n",
            "   macro avg       0.70      0.70      0.70       880\n",
            "weighted avg       0.70      0.70      0.70       880\n",
            "\n"
          ]
        },
        {
          "output_type": "display_data",
          "data": {
            "text/plain": [
              "<Figure size 640x480 with 2 Axes>"
            ],
            "image/png": "[encoded data removed]"
          },
          "metadata": {}
        }
      ]
    }
  ]
}